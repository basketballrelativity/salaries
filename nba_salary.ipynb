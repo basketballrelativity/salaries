{
 "cells": [
  {
   "cell_type": "markdown",
   "metadata": {},
   "source": [
    "# NBA Salary Exploratory Analysis\n",
    "\n",
    "Team and player salaries are crucial to the game of basketball. Due to the soft salary cap, the degree to which a team can spend money and remain flexible dictates roster construction and management.\n",
    "\n",
    "The following explores the `TeamSalaries` and `HistoricalSalaries` classes of the [py_ball](https://github.com/basketballrelativity/py_ball) package by exploring the `salaries` endpoint of the [Hoopshype.com](https://hoopshype.com). The goal of this analysis is to explore the salary data available."
   ]
  },
  {
   "cell_type": "code",
   "execution_count": 1,
   "metadata": {
    "collapsed": true
   },
   "outputs": [],
   "source": [
    "import numpy as np\n",
    "import pandas as pd\n",
    "import matplotlib.pyplot as plt\n",
    "import itertools\n",
    "\n",
    "from py_ball import salaries\n",
    "\n",
    "ID_TO_TEAM_NBA = {'1610612761': 'TOR', '1610612743': 'DEN',\n",
    "                  '1610612765': 'DET', '1610612740': 'NOP',\n",
    "                  '1610612749': 'MIL', '1610612744': 'GSW',\n",
    "                  '1610612759': 'SAS', '1610612757': 'POR',\n",
    "                  '1610612746': 'LAC', '1610612742': 'DAL',\n",
    "                  '1610612763': 'MEM', '1610612755': 'PHI',\n",
    "                  '1610612738': 'BOS', '1610612750': 'MIN',\n",
    "                  '1610612766': 'CHA', '1610612754': 'IND',\n",
    "                  '1610612753': 'ORL', '1610612748': 'MIA',\n",
    "                  '1610612745': 'HOU', '1610612758': 'SAC',\n",
    "                  '1610612762': 'UTA', '1610612751': 'BKN',\n",
    "                  '1610612737': 'ATL', '1610612756': 'PHX',\n",
    "                  '1610612764': 'WAS', '1610612752': 'NYK',\n",
    "                  '1610612760': 'OKC', '1610612747': 'LAL',\n",
    "                  '1610612739': 'CLE', '1610612741': 'CHI'}"
   ]
  },
  {
   "cell_type": "markdown",
   "metadata": {},
   "source": [
    "First, let's checkout the `TeamSalaries` class. Because this pulls current and future salary information for each player and team, initializing the class takes a little time.\n",
    "\n",
    "## Team Salaries (Current and Future)"
   ]
  },
  {
   "cell_type": "code",
   "execution_count": 2,
   "metadata": {
    "collapsed": true
   },
   "outputs": [],
   "source": [
    "team_salaries = salaries.TeamSalaries()"
   ]
  },
  {
   "cell_type": "code",
   "execution_count": 3,
   "metadata": {},
   "outputs": [],
   "source": [
    "team_df = pd.DataFrame(team_salaries.totals).T\n",
    "team_df.columns = team_salaries.totals_columns"
   ]
  },
  {
   "cell_type": "code",
   "execution_count": 4,
   "metadata": {},
   "outputs": [],
   "source": [
    "team_df['team'] = [ID_TO_TEAM_NBA[x] for x in team_df.index.values]"
   ]
  },
  {
   "cell_type": "code",
   "execution_count": 5,
   "metadata": {},
   "outputs": [
    {
     "data": {
      "text/html": [
       "<div>\n",
       "<style>\n",
       "    .dataframe thead tr:only-child th {\n",
       "        text-align: right;\n",
       "    }\n",
       "\n",
       "    .dataframe thead th {\n",
       "        text-align: left;\n",
       "    }\n",
       "\n",
       "    .dataframe tbody tr th {\n",
       "        vertical-align: top;\n",
       "    }\n",
       "</style>\n",
       "<table border=\"1\" class=\"dataframe\">\n",
       "  <thead>\n",
       "    <tr style=\"text-align: right;\">\n",
       "      <th></th>\n",
       "      <th>2018/19</th>\n",
       "      <th>2019/20</th>\n",
       "      <th>2020/21</th>\n",
       "      <th>2021/22</th>\n",
       "      <th>2022/23</th>\n",
       "      <th>2023/24</th>\n",
       "      <th>url</th>\n",
       "      <th>team</th>\n",
       "    </tr>\n",
       "  </thead>\n",
       "  <tbody>\n",
       "    <tr>\n",
       "      <th>1610612737</th>\n",
       "      <td>104910886</td>\n",
       "      <td>57008180</td>\n",
       "      <td>0</td>\n",
       "      <td>0</td>\n",
       "      <td>0</td>\n",
       "      <td>0</td>\n",
       "      <td>https://hoopshype.com/salaries/atlanta_hawks/</td>\n",
       "      <td>ATL</td>\n",
       "    </tr>\n",
       "    <tr>\n",
       "      <th>1610612738</th>\n",
       "      <td>125334993</td>\n",
       "      <td>121175394</td>\n",
       "      <td>47226370</td>\n",
       "      <td>13932142</td>\n",
       "      <td>92857</td>\n",
       "      <td>0</td>\n",
       "      <td>https://hoopshype.com/salaries/boston_celtics/</td>\n",
       "      <td>BOS</td>\n",
       "    </tr>\n",
       "    <tr>\n",
       "      <th>1610612739</th>\n",
       "      <td>123255073</td>\n",
       "      <td>134270402</td>\n",
       "      <td>42967347</td>\n",
       "      <td>41949165</td>\n",
       "      <td>28942830</td>\n",
       "      <td>0</td>\n",
       "      <td>https://hoopshype.com/salaries/cleveland_caval...</td>\n",
       "      <td>CLE</td>\n",
       "    </tr>\n",
       "    <tr>\n",
       "      <th>1610612740</th>\n",
       "      <td>116052756</td>\n",
       "      <td>88788693</td>\n",
       "      <td>54882886</td>\n",
       "      <td>27020000</td>\n",
       "      <td>0</td>\n",
       "      <td>0</td>\n",
       "      <td>https://hoopshype.com/salaries/new_orleans_pel...</td>\n",
       "      <td>NOP</td>\n",
       "    </tr>\n",
       "    <tr>\n",
       "      <th>1610612741</th>\n",
       "      <td>112598201</td>\n",
       "      <td>82649833</td>\n",
       "      <td>55518259</td>\n",
       "      <td>19500000</td>\n",
       "      <td>0</td>\n",
       "      <td>0</td>\n",
       "      <td>https://hoopshype.com/salaries/chicago_bulls/</td>\n",
       "      <td>CHI</td>\n",
       "    </tr>\n",
       "  </tbody>\n",
       "</table>\n",
       "</div>"
      ],
      "text/plain": [
       "              2018/19    2019/20   2020/21   2021/22   2022/23 2023/24  \\\n",
       "1610612737  104910886   57008180         0         0         0       0   \n",
       "1610612738  125334993  121175394  47226370  13932142     92857       0   \n",
       "1610612739  123255073  134270402  42967347  41949165  28942830       0   \n",
       "1610612740  116052756   88788693  54882886  27020000         0       0   \n",
       "1610612741  112598201   82649833  55518259  19500000         0       0   \n",
       "\n",
       "                                                          url team  \n",
       "1610612737      https://hoopshype.com/salaries/atlanta_hawks/  ATL  \n",
       "1610612738     https://hoopshype.com/salaries/boston_celtics/  BOS  \n",
       "1610612739  https://hoopshype.com/salaries/cleveland_caval...  CLE  \n",
       "1610612740  https://hoopshype.com/salaries/new_orleans_pel...  NOP  \n",
       "1610612741      https://hoopshype.com/salaries/chicago_bulls/  CHI  "
      ]
     },
     "execution_count": 5,
     "metadata": {},
     "output_type": "execute_result"
    }
   ],
   "source": [
    "team_df.head()"
   ]
  },
  {
   "cell_type": "markdown",
   "metadata": {},
   "source": [
    "The table above shows yearly salary breakdowns through the 2023-24 NBA season by team, along with the data source URL. Going into the offseason, financial flexibility allows for the pursuit of free agents. To visualize this, let's compare the team salary from the 2018-19 season to the salary on the books already for the 2019-20 season."
   ]
  },
  {
   "cell_type": "code",
   "execution_count": 6,
   "metadata": {},
   "outputs": [],
   "source": [
    "def compare_seasons(team_df, season_1, season_2):\n",
    "    \"\"\" compare_seasons plots a paired barchart comparing\n",
    "    the team salaries from two consecutive seasons\n",
    "    \"\"\"\n",
    "\n",
    "    team_df = team_df.sort_values(season_1, ascending=False)\n",
    "    season_1_vals = [x/1000000.0 for x in team_df[season_1]]\n",
    "    season_2_vals = [x/1000000.0 for x in team_df[season_2]]\n",
    "\n",
    "    ind = np.arange(30)  # the x locations for the groups\n",
    "    width = 0.35  # the width of the bars\n",
    "\n",
    "    fig, ax = plt.subplots(figsize=(14, 9))\n",
    "    rects1 = ax.bar(ind - width/2, season_1_vals, width,\n",
    "                    color='gray', label=season_1)\n",
    "    rects2 = ax.bar(ind + width/2, season_2_vals, width,\n",
    "                    color='lightgray', label=season_2)\n",
    "\n",
    "    # Add some text for labels, title and custom x-axis tick labels, etc.\n",
    "    ax.set_ylabel('Salary ($MM)', fontsize=16)\n",
    "    ax.set_title('Team Salary by Season', fontsize=16)\n",
    "    ax.set_xticks(ind)\n",
    "    ax.set_xticklabels(list(team_df['team']), rotation=45, fontsize=14)\n",
    "    ax.legend(fontsize=14)\n",
    "    \n",
    "    plt.close()\n",
    "    return fig"
   ]
  },
  {
   "cell_type": "code",
   "execution_count": 7,
   "metadata": {},
   "outputs": [],
   "source": [
    "team_viz = compare_seasons(team_df, '2018/19', '2019/20')"
   ]
  },
  {
   "cell_type": "code",
   "execution_count": 8,
   "metadata": {},
   "outputs": [
    {
     "data": {
      "image/png": "[encoded data removed]",
      "text/plain": [
       "<matplotlib.figure.Figure at 0x113afb240>"
      ]
     },
     "execution_count": 8,
     "metadata": {},
     "output_type": "execute_result"
    }
   ],
   "source": [
    "team_viz"
   ]
  },
  {
   "cell_type": "markdown",
   "metadata": {},
   "source": [
    "Some interesting takeaways from the above figure:\n",
    "- Oklahoma City and Miami already have a higher salary for the 2019/20 season\n",
    "- The Knicks, Nets, and Clippers appear to have the most flexibility leading into the offseason\n",
    "\n",
    "## Player Salaries (Current and Future)"
   ]
  },
  {
   "cell_type": "code",
   "execution_count": 9,
   "metadata": {},
   "outputs": [],
   "source": [
    "team_id = '1610612755'  # Philadelphia\n",
    "team_player = team_salaries.team_player_salaries['1610612755']"
   ]
  },
  {
   "cell_type": "code",
   "execution_count": 10,
   "metadata": {},
   "outputs": [],
   "source": [
    "team_player_salary = [team_player[x]['salary'] for x in team_player]\n",
    "team_player_options = [team_player[x]['options'] for x in team_player]\n",
    "\n",
    "salary_df = pd.DataFrame(team_player_salary)\n",
    "option_df = pd.DataFrame(team_player_options)"
   ]
  },
  {
   "cell_type": "code",
   "execution_count": 11,
   "metadata": {},
   "outputs": [],
   "source": [
    "salary_df.columns = team_salaries.team_player_columns\n",
    "option_df.columns = team_salaries.team_player_columns[:-1]\n",
    "\n",
    "salary_df['name'] = [x for x in team_player]\n",
    "option_df['name'] = [x for x in team_player]"
   ]
  },
  {
   "cell_type": "code",
   "execution_count": 12,
   "metadata": {},
   "outputs": [
    {
     "data": {
      "text/html": [
       "<div>\n",
       "<style>\n",
       "    .dataframe thead tr:only-child th {\n",
       "        text-align: right;\n",
       "    }\n",
       "\n",
       "    .dataframe thead th {\n",
       "        text-align: left;\n",
       "    }\n",
       "\n",
       "    .dataframe tbody tr th {\n",
       "        vertical-align: top;\n",
       "    }\n",
       "</style>\n",
       "<table border=\"1\" class=\"dataframe\">\n",
       "  <thead>\n",
       "    <tr style=\"text-align: right;\">\n",
       "      <th></th>\n",
       "      <th>2018/19</th>\n",
       "      <th>2019/20</th>\n",
       "      <th>2020/21</th>\n",
       "      <th>2021/22</th>\n",
       "      <th>2022/23</th>\n",
       "      <th>2023/24</th>\n",
       "      <th>url</th>\n",
       "      <th>name</th>\n",
       "    </tr>\n",
       "  </thead>\n",
       "  <tbody>\n",
       "    <tr>\n",
       "      <th>0</th>\n",
       "      <td>25467250</td>\n",
       "      <td>27250000</td>\n",
       "      <td>29000000</td>\n",
       "      <td>0</td>\n",
       "      <td>0</td>\n",
       "      <td>0</td>\n",
       "      <td>https://hoopshype.com/player/joel-embiid/salary/</td>\n",
       "      <td>joel-embiid</td>\n",
       "    </tr>\n",
       "    <tr>\n",
       "      <th>1</th>\n",
       "      <td>19841627</td>\n",
       "      <td>19841627</td>\n",
       "      <td>0</td>\n",
       "      <td>0</td>\n",
       "      <td>0</td>\n",
       "      <td>0</td>\n",
       "      <td>https://hoopshype.com/player/jimmy-butler/salary/</td>\n",
       "      <td>jimmy-butler</td>\n",
       "    </tr>\n",
       "    <tr>\n",
       "      <th>2</th>\n",
       "      <td>14800000</td>\n",
       "      <td>0</td>\n",
       "      <td>0</td>\n",
       "      <td>0</td>\n",
       "      <td>0</td>\n",
       "      <td>0</td>\n",
       "      <td>https://hoopshype.com/player/tobias-harris/sal...</td>\n",
       "      <td>tobias-harris</td>\n",
       "    </tr>\n",
       "    <tr>\n",
       "      <th>3</th>\n",
       "      <td>12250000</td>\n",
       "      <td>0</td>\n",
       "      <td>0</td>\n",
       "      <td>0</td>\n",
       "      <td>0</td>\n",
       "      <td>0</td>\n",
       "      <td>https://hoopshype.com/player/jj-redick/salary/</td>\n",
       "      <td>jj-redick</td>\n",
       "    </tr>\n",
       "    <tr>\n",
       "      <th>4</th>\n",
       "      <td>9490740</td>\n",
       "      <td>0</td>\n",
       "      <td>0</td>\n",
       "      <td>0</td>\n",
       "      <td>0</td>\n",
       "      <td>0</td>\n",
       "      <td>https://hoopshype.com/player/boban-marjanovic/...</td>\n",
       "      <td>boban-marjanovic</td>\n",
       "    </tr>\n",
       "  </tbody>\n",
       "</table>\n",
       "</div>"
      ],
      "text/plain": [
       "    2018/19   2019/20   2020/21  2021/22  2022/23  2023/24  \\\n",
       "0  25467250  27250000  29000000        0        0        0   \n",
       "1  19841627  19841627         0        0        0        0   \n",
       "2  14800000         0         0        0        0        0   \n",
       "3  12250000         0         0        0        0        0   \n",
       "4   9490740         0         0        0        0        0   \n",
       "\n",
       "                                                 url              name  \n",
       "0   https://hoopshype.com/player/joel-embiid/salary/       joel-embiid  \n",
       "1  https://hoopshype.com/player/jimmy-butler/salary/      jimmy-butler  \n",
       "2  https://hoopshype.com/player/tobias-harris/sal...     tobias-harris  \n",
       "3     https://hoopshype.com/player/jj-redick/salary/         jj-redick  \n",
       "4  https://hoopshype.com/player/boban-marjanovic/...  boban-marjanovic  "
      ]
     },
     "execution_count": 12,
     "metadata": {},
     "output_type": "execute_result"
    }
   ],
   "source": [
    "salary_df.head()"
   ]
  },
  {
   "cell_type": "code",
   "execution_count": 13,
   "metadata": {},
   "outputs": [
    {
     "data": {
      "text/html": [
       "<div>\n",
       "<style>\n",
       "    .dataframe thead tr:only-child th {\n",
       "        text-align: right;\n",
       "    }\n",
       "\n",
       "    .dataframe thead th {\n",
       "        text-align: left;\n",
       "    }\n",
       "\n",
       "    .dataframe tbody tr th {\n",
       "        vertical-align: top;\n",
       "    }\n",
       "</style>\n",
       "<table border=\"1\" class=\"dataframe\">\n",
       "  <thead>\n",
       "    <tr style=\"text-align: right;\">\n",
       "      <th></th>\n",
       "      <th>2018/19</th>\n",
       "      <th>2019/20</th>\n",
       "      <th>2020/21</th>\n",
       "      <th>2021/22</th>\n",
       "      <th>2022/23</th>\n",
       "      <th>2023/24</th>\n",
       "      <th>name</th>\n",
       "    </tr>\n",
       "  </thead>\n",
       "  <tbody>\n",
       "    <tr>\n",
       "      <th>0</th>\n",
       "      <td></td>\n",
       "      <td></td>\n",
       "      <td></td>\n",
       "      <td></td>\n",
       "      <td></td>\n",
       "      <td></td>\n",
       "      <td>joel-embiid</td>\n",
       "    </tr>\n",
       "    <tr>\n",
       "      <th>1</th>\n",
       "      <td></td>\n",
       "      <td>Player</td>\n",
       "      <td></td>\n",
       "      <td></td>\n",
       "      <td></td>\n",
       "      <td></td>\n",
       "      <td>jimmy-butler</td>\n",
       "    </tr>\n",
       "    <tr>\n",
       "      <th>2</th>\n",
       "      <td></td>\n",
       "      <td></td>\n",
       "      <td></td>\n",
       "      <td></td>\n",
       "      <td></td>\n",
       "      <td></td>\n",
       "      <td>tobias-harris</td>\n",
       "    </tr>\n",
       "    <tr>\n",
       "      <th>3</th>\n",
       "      <td></td>\n",
       "      <td></td>\n",
       "      <td></td>\n",
       "      <td></td>\n",
       "      <td></td>\n",
       "      <td></td>\n",
       "      <td>jj-redick</td>\n",
       "    </tr>\n",
       "    <tr>\n",
       "      <th>4</th>\n",
       "      <td></td>\n",
       "      <td></td>\n",
       "      <td></td>\n",
       "      <td></td>\n",
       "      <td></td>\n",
       "      <td></td>\n",
       "      <td>boban-marjanovic</td>\n",
       "    </tr>\n",
       "  </tbody>\n",
       "</table>\n",
       "</div>"
      ],
      "text/plain": [
       "  2018/19 2019/20 2020/21 2021/22 2022/23 2023/24              name\n",
       "0                                                       joel-embiid\n",
       "1          Player                                      jimmy-butler\n",
       "2                                                     tobias-harris\n",
       "3                                                         jj-redick\n",
       "4                                                  boban-marjanovic"
      ]
     },
     "execution_count": 13,
     "metadata": {},
     "output_type": "execute_result"
    }
   ],
   "source": [
    "option_df.head()"
   ]
  },
  {
   "cell_type": "markdown",
   "metadata": {},
   "source": [
    "With this information, let's create an analogous figure for player salaries."
   ]
  },
  {
   "cell_type": "code",
   "execution_count": 14,
   "metadata": {},
   "outputs": [],
   "source": [
    "def compare_player_seasons(player_df, option_df, season_1, season_2, team_id):\n",
    "    \"\"\" compare_player_seasons plots a paired barchart comparing\n",
    "    the player salaries from two consecutive seasons\n",
    "    \"\"\"\n",
    "\n",
    "    player_df['options'] = option_df[season_2]\n",
    "    player_df = player_df.sort_values(season_1, ascending=True)\n",
    "    season_1_vals = [x/1000000.0 for x in player_df[season_1]]\n",
    "    season_2_vals = [x/1000000.0 for x in player_df[season_2]]\n",
    "\n",
    "    ind = np.arange(len(player_df))  # the x locations for the groups\n",
    "    width = 0.35  # the width of the bars\n",
    "\n",
    "    fig, ax = plt.subplots(figsize=(14, 9))\n",
    "    rects1 = ax.barh(ind + width/2, season_1_vals, width,\n",
    "                    color='gray', label=season_1)\n",
    "    rects2 = ax.barh(ind - width/2, season_2_vals, width,\n",
    "                    color='lightgray', label=season_2)\n",
    "\n",
    "    # Add some text for labels, title and custom x-axis tick labels, etc.\n",
    "    ax.set_xlabel('Player Salary ($MM)', fontsize=16)\n",
    "    ax.set_title(ID_TO_TEAM_NBA[team_id] + ' Player Salaries', fontsize=16)\n",
    "    ax.set_yticks(ind)\n",
    "    option_signifier = ['' if x == '' else '+' if x == 'Player'\n",
    "                        else '*' if x == 'Team' else '^' if x == 'Qualifying'\n",
    "                        else 'x' for x in player_df['options']]\n",
    "    player_name = [x + y for x, y in zip(player_df['name'], option_signifier)]\n",
    "    ax.set_yticklabels(player_name, fontsize=14)\n",
    "    ax.legend(fontsize=14, loc='lower right')\n",
    "    \n",
    "    plt.close()\n",
    "    return fig"
   ]
  },
  {
   "cell_type": "code",
   "execution_count": 15,
   "metadata": {},
   "outputs": [],
   "source": [
    "player_viz = compare_player_seasons(salary_df, option_df, '2018/19', '2019/20', team_id)"
   ]
  },
  {
   "cell_type": "code",
   "execution_count": 16,
   "metadata": {},
   "outputs": [
    {
     "data": {
      "image/png": "[encoded data removed]",
      "text/plain": [
       "<matplotlib.figure.Figure at 0x114517320>"
      ]
     },
     "execution_count": 16,
     "metadata": {},
     "output_type": "execute_result"
    }
   ],
   "source": [
    "player_viz"
   ]
  },
  {
   "cell_type": "markdown",
   "metadata": {},
   "source": [
    "- Joel Embiid leads the team in salary, making \\$27,250,000 next season\n",
    "- Expect some significant roster turnover. The 76ers have many impending free agents.\n",
    "- The '+' next to a name signifies a player option. Both Jimmy Butler and James Ennis are expected to decline their player options this summer and elect free agency."
   ]
  },
  {
   "cell_type": "markdown",
   "metadata": {},
   "source": [
    "## Exploration\n",
    "\n",
    "- Dive into the `HistoricalSeasons` class and try to replicate the figures above for a prior season\n",
    "- Find salary cap information and effectively communicate that in these or other visualizations\n",
    "- See how adding (or subtracting) a player from a roster would effect a team's salary for the 2019-20 season."
   ]
  },
  {
   "cell_type": "code",
   "execution_count": null,
   "metadata": {
    "collapsed": true
   },
   "outputs": [],
   "source": []
  }
 ],
 "metadata": {
  "kernelspec": {
   "display_name": "Python 3",
   "language": "python",
   "name": "python3"
  },
  "language_info": {
   "codemirror_mode": {
    "name": "ipython",
    "version": 3
   },
   "file_extension": ".py",
   "mimetype": "text/x-python",
   "name": "python",
   "nbconvert_exporter": "python",
   "pygments_lexer": "ipython3",
   "version": "3.6.1"
  }
 },
 "nbformat": 4,
 "nbformat_minor": 2
}
