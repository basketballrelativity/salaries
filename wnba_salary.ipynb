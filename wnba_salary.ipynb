{
 "cells": [
  {
   "cell_type": "markdown",
   "metadata": {},
   "source": [
    "# WNBA Salary Exploratory Analysis\n",
    "\n",
    "Team and player salaries are crucial to the game of basketball. Due to the hard salary cap, the degree to which a team can spend money and remain flexible dictates roster construction and management. Additionally, with the new CBA in the WNBA, historical trends in player and team salary can be examined.\n",
    "\n",
    "The following explores the `TeamSalaries` classes of the [py_ball](https://github.com/basketballrelativity/py_ball) package by exploring the data available on the [Spotrac.com](https://spotrac.com). The goal of this analysis is to explore the salary data available."
   ]
  },
  {
   "cell_type": "code",
   "execution_count": 1,
   "metadata": {},
   "outputs": [],
   "source": [
    "import numpy as np\n",
    "import pandas as pd\n",
    "import matplotlib.pyplot as plt\n",
    "import itertools\n",
    "\n",
    "from py_ball import wnba_salaries\n",
    "\n",
    "ID_TO_TEAM_WNBA = {'1611661330': 'Dream', '1611661321': 'Wings',\n",
    "                   '1611661320': 'Sparks', '1611661317': 'Mercury',\n",
    "                   '1611661329': 'Sky', '1611661325': 'Fever',\n",
    "                   '1611661324': 'Lynx', '1611661328': 'Storm',\n",
    "                   '1611661323': 'Sun', '1611661319': 'Aces',\n",
    "                   '1611661313': 'Liberty', '1611661322': 'Mystics'}"
   ]
  },
  {
   "cell_type": "markdown",
   "metadata": {},
   "source": [
    "Let's checkout the `TeamSalaries` class. We'll need to provide a season for which to pull salary information, so let's start with the current season.\n",
    "\n",
    "## Team Salaries (Current)"
   ]
  },
  {
   "cell_type": "code",
   "execution_count": 2,
   "metadata": {},
   "outputs": [],
   "source": [
    "season = 2020\n",
    "team_salaries = wnba_salaries.TeamSalaries(season)"
   ]
  },
  {
   "cell_type": "code",
   "execution_count": 3,
   "metadata": {},
   "outputs": [],
   "source": [
    "team_df = pd.DataFrame(team_salaries.totals).T\n",
    "team_df.columns = team_salaries.totals_columns"
   ]
  },
  {
   "cell_type": "code",
   "execution_count": 4,
   "metadata": {},
   "outputs": [],
   "source": [
    "team_df['team'] = [ID_TO_TEAM_WNBA[x] for x in team_df.index.values]"
   ]
  },
  {
   "cell_type": "code",
   "execution_count": 5,
   "metadata": {},
   "outputs": [
    {
     "data": {
      "text/html": [
       "<div>\n",
       "<style scoped>\n",
       "    .dataframe tbody tr th:only-of-type {\n",
       "        vertical-align: middle;\n",
       "    }\n",
       "\n",
       "    .dataframe tbody tr th {\n",
       "        vertical-align: top;\n",
       "    }\n",
       "\n",
       "    .dataframe thead th {\n",
       "        text-align: right;\n",
       "    }\n",
       "</style>\n",
       "<table border=\"1\" class=\"dataframe\">\n",
       "  <thead>\n",
       "    <tr style=\"text-align: right;\">\n",
       "      <th></th>\n",
       "      <th>Rank</th>\n",
       "      <th>Team</th>\n",
       "      <th>Signed</th>\n",
       "      <th>Average Age</th>\n",
       "      <th>Active Cap</th>\n",
       "      <th>Dead Cap</th>\n",
       "      <th>Total Cap</th>\n",
       "      <th>Cap Space</th>\n",
       "      <th>URL</th>\n",
       "      <th>team</th>\n",
       "    </tr>\n",
       "  </thead>\n",
       "  <tbody>\n",
       "    <tr>\n",
       "      <td>1611661324</td>\n",
       "      <td>1</td>\n",
       "      <td>Minnesota Lynx</td>\n",
       "      <td>10</td>\n",
       "      <td>26.6</td>\n",
       "      <td>$737,627</td>\n",
       "      <td>0</td>\n",
       "      <td>$737,627</td>\n",
       "      <td>$562,373</td>\n",
       "      <td>https://www.spotrac.com/redirect/team/347/cap-...</td>\n",
       "      <td>Lynx</td>\n",
       "    </tr>\n",
       "    <tr>\n",
       "      <td>1611661319</td>\n",
       "      <td>2</td>\n",
       "      <td>Las Vegas Aces</td>\n",
       "      <td>10</td>\n",
       "      <td>25.8</td>\n",
       "      <td>$788,000</td>\n",
       "      <td>0</td>\n",
       "      <td>$788,000</td>\n",
       "      <td>$512,000</td>\n",
       "      <td>https://www.spotrac.com/redirect/team/345/cap-...</td>\n",
       "      <td>Aces</td>\n",
       "    </tr>\n",
       "    <tr>\n",
       "      <td>1611661313</td>\n",
       "      <td>3</td>\n",
       "      <td>New York Liberty</td>\n",
       "      <td>9</td>\n",
       "      <td>25.4</td>\n",
       "      <td>$870,200</td>\n",
       "      <td>0</td>\n",
       "      <td>$870,200</td>\n",
       "      <td>$429,800</td>\n",
       "      <td>https://www.spotrac.com/redirect/team/348/cap-...</td>\n",
       "      <td>Liberty</td>\n",
       "    </tr>\n",
       "    <tr>\n",
       "      <td>1611661329</td>\n",
       "      <td>4</td>\n",
       "      <td>Chicago Sky</td>\n",
       "      <td>9</td>\n",
       "      <td>26.1</td>\n",
       "      <td>$872,206</td>\n",
       "      <td>0</td>\n",
       "      <td>$872,206</td>\n",
       "      <td>$427,794</td>\n",
       "      <td>https://www.spotrac.com/redirect/team/341/cap-...</td>\n",
       "      <td>Sky</td>\n",
       "    </tr>\n",
       "    <tr>\n",
       "      <td>1611661320</td>\n",
       "      <td>5</td>\n",
       "      <td>Los Angeles Sparks</td>\n",
       "      <td>11</td>\n",
       "      <td>28.2</td>\n",
       "      <td>$993,000</td>\n",
       "      <td>0</td>\n",
       "      <td>$993,000</td>\n",
       "      <td>$307,000</td>\n",
       "      <td>https://www.spotrac.com/redirect/team/346/cap-...</td>\n",
       "      <td>Sparks</td>\n",
       "    </tr>\n",
       "  </tbody>\n",
       "</table>\n",
       "</div>"
      ],
      "text/plain": [
       "           Rank                Team Signed Average Age Active Cap Dead Cap  \\\n",
       "1611661324    1      Minnesota Lynx     10        26.6   $737,627        0   \n",
       "1611661319    2      Las Vegas Aces     10        25.8   $788,000        0   \n",
       "1611661313    3    New York Liberty      9        25.4   $870,200        0   \n",
       "1611661329    4         Chicago Sky      9        26.1   $872,206        0   \n",
       "1611661320    5  Los Angeles Sparks     11        28.2   $993,000        0   \n",
       "\n",
       "            Total Cap Cap Space  \\\n",
       "1611661324  $737,627   $562,373   \n",
       "1611661319  $788,000   $512,000   \n",
       "1611661313  $870,200   $429,800   \n",
       "1611661329  $872,206   $427,794   \n",
       "1611661320  $993,000   $307,000   \n",
       "\n",
       "                                                          URL     team  \n",
       "1611661324  https://www.spotrac.com/redirect/team/347/cap-...     Lynx  \n",
       "1611661319  https://www.spotrac.com/redirect/team/345/cap-...     Aces  \n",
       "1611661313  https://www.spotrac.com/redirect/team/348/cap-...  Liberty  \n",
       "1611661329  https://www.spotrac.com/redirect/team/341/cap-...      Sky  \n",
       "1611661320  https://www.spotrac.com/redirect/team/346/cap-...   Sparks  "
      ]
     },
     "execution_count": 5,
     "metadata": {},
     "output_type": "execute_result"
    }
   ],
   "source": [
    "team_df.head()"
   ]
  },
  {
   "cell_type": "markdown",
   "metadata": {},
   "source": [
    "The table above shows yearly salary breakdowns for the 2020 WNBA season by team, along with the data source URL. Going into the offseason, financial flexibility allows for the pursuit of free agents. To visualize this, let's compare the team salary from the 2019 season to the salary on the books already for the 2020 season."
   ]
  },
  {
   "cell_type": "code",
   "execution_count": 6,
   "metadata": {},
   "outputs": [
    {
     "data": {
      "text/html": [
       "<div>\n",
       "<style scoped>\n",
       "    .dataframe tbody tr th:only-of-type {\n",
       "        vertical-align: middle;\n",
       "    }\n",
       "\n",
       "    .dataframe tbody tr th {\n",
       "        vertical-align: top;\n",
       "    }\n",
       "\n",
       "    .dataframe thead th {\n",
       "        text-align: right;\n",
       "    }\n",
       "</style>\n",
       "<table border=\"1\" class=\"dataframe\">\n",
       "  <thead>\n",
       "    <tr style=\"text-align: right;\">\n",
       "      <th></th>\n",
       "      <th>Rank</th>\n",
       "      <th>Team</th>\n",
       "      <th>Signed</th>\n",
       "      <th>Average Age</th>\n",
       "      <th>Active Cap</th>\n",
       "      <th>Dead Cap</th>\n",
       "      <th>Total Cap</th>\n",
       "      <th>Cap Space</th>\n",
       "      <th>URL</th>\n",
       "      <th>team</th>\n",
       "    </tr>\n",
       "  </thead>\n",
       "  <tbody>\n",
       "    <tr>\n",
       "      <td>1611661321</td>\n",
       "      <td>1</td>\n",
       "      <td>Dallas Wings</td>\n",
       "      <td>12</td>\n",
       "      <td>24.0</td>\n",
       "      <td>$750,280</td>\n",
       "      <td>0</td>\n",
       "      <td>$750,280</td>\n",
       "      <td>$245,820</td>\n",
       "      <td>https://www.spotrac.com/redirect/team/343/cap-...</td>\n",
       "      <td>Wings</td>\n",
       "    </tr>\n",
       "    <tr>\n",
       "      <td>1611661325</td>\n",
       "      <td>2</td>\n",
       "      <td>Indiana Fever</td>\n",
       "      <td>12</td>\n",
       "      <td>24.9</td>\n",
       "      <td>$812,033</td>\n",
       "      <td>0</td>\n",
       "      <td>$812,033</td>\n",
       "      <td>$184,067</td>\n",
       "      <td>https://www.spotrac.com/redirect/team/344/cap-...</td>\n",
       "      <td>Fever</td>\n",
       "    </tr>\n",
       "    <tr>\n",
       "      <td>1611661319</td>\n",
       "      <td>3</td>\n",
       "      <td>Las Vegas Aces</td>\n",
       "      <td>12</td>\n",
       "      <td>25.6</td>\n",
       "      <td>$841,017</td>\n",
       "      <td>0</td>\n",
       "      <td>$841,017</td>\n",
       "      <td>$155,083</td>\n",
       "      <td>https://www.spotrac.com/redirect/team/345/cap-...</td>\n",
       "      <td>Aces</td>\n",
       "    </tr>\n",
       "    <tr>\n",
       "      <td>1611661330</td>\n",
       "      <td>4</td>\n",
       "      <td>Atlanta Dream</td>\n",
       "      <td>12</td>\n",
       "      <td>26.2</td>\n",
       "      <td>$832,176</td>\n",
       "      <td>0</td>\n",
       "      <td>$868,543</td>\n",
       "      <td>$127,557</td>\n",
       "      <td>https://www.spotrac.com/redirect/team/340/cap-...</td>\n",
       "      <td>Dream</td>\n",
       "    </tr>\n",
       "    <tr>\n",
       "      <td>1611661313</td>\n",
       "      <td>5</td>\n",
       "      <td>New York Liberty</td>\n",
       "      <td>12</td>\n",
       "      <td>25.4</td>\n",
       "      <td>$848,635</td>\n",
       "      <td>0</td>\n",
       "      <td>$872,647</td>\n",
       "      <td>$123,453</td>\n",
       "      <td>https://www.spotrac.com/redirect/team/348/cap-...</td>\n",
       "      <td>Liberty</td>\n",
       "    </tr>\n",
       "  </tbody>\n",
       "</table>\n",
       "</div>"
      ],
      "text/plain": [
       "           Rank              Team Signed Average Age Active Cap Dead Cap  \\\n",
       "1611661321    1      Dallas Wings     12        24.0   $750,280        0   \n",
       "1611661325    2     Indiana Fever     12        24.9   $812,033        0   \n",
       "1611661319    3    Las Vegas Aces     12        25.6   $841,017        0   \n",
       "1611661330    4     Atlanta Dream     12        26.2   $832,176        0   \n",
       "1611661313    5  New York Liberty     12        25.4   $848,635        0   \n",
       "\n",
       "            Total Cap Cap Space  \\\n",
       "1611661321  $750,280   $245,820   \n",
       "1611661325  $812,033   $184,067   \n",
       "1611661319  $841,017   $155,083   \n",
       "1611661330  $868,543   $127,557   \n",
       "1611661313  $872,647   $123,453   \n",
       "\n",
       "                                                          URL     team  \n",
       "1611661321  https://www.spotrac.com/redirect/team/343/cap-...    Wings  \n",
       "1611661325  https://www.spotrac.com/redirect/team/344/cap-...    Fever  \n",
       "1611661319  https://www.spotrac.com/redirect/team/345/cap-...     Aces  \n",
       "1611661330  https://www.spotrac.com/redirect/team/340/cap-...    Dream  \n",
       "1611661313  https://www.spotrac.com/redirect/team/348/cap-...  Liberty  "
      ]
     },
     "execution_count": 6,
     "metadata": {},
     "output_type": "execute_result"
    }
   ],
   "source": [
    "prior_season = 2019\n",
    "prior_team_salaries = wnba_salaries.TeamSalaries(prior_season)\n",
    "\n",
    "prior_team_df = pd.DataFrame(prior_team_salaries.totals).T\n",
    "prior_team_df.columns = prior_team_salaries.totals_columns\n",
    "prior_team_df['team'] = [ID_TO_TEAM_WNBA[x] for x in prior_team_df.index.values]\n",
    "prior_team_df.head()"
   ]
  },
  {
   "cell_type": "code",
   "execution_count": 7,
   "metadata": {},
   "outputs": [],
   "source": [
    "def compare_seasons(team_df, prior_team_df):\n",
    "    \"\"\" compare_seasons plots a paired barchart comparing\n",
    "    the team salaries from two consecutive seasons\n",
    "    \"\"\"\n",
    "    team_df['Total Cap'] = [int(x.replace('$', '').replace(',', '')) for x in team_df['Total Cap']]\n",
    "    prior_team_df['Total Cap'] = [int(x.replace('$', '').replace(',', '')) for x in prior_team_df['Total Cap']]\n",
    "    team_df = team_df.merge(prior_team_df[['Total Cap']],\n",
    "                            left_index=True,\n",
    "                            right_index=True)\n",
    "    team_df = team_df.sort_values('Total Cap_x', ascending=False)\n",
    "    season_1_vals = [x for x in team_df['Total Cap_y']]\n",
    "    season_2_vals = [x for x in team_df['Total Cap_x']]\n",
    "\n",
    "    ind = np.arange(12)  # the x locations for the groups\n",
    "    width = 0.35  # the width of the bars\n",
    "\n",
    "    fig, ax = plt.subplots(figsize=(14, 9))\n",
    "    rects1 = ax.bar(ind - width/2, season_1_vals, width,\n",
    "                    color='gray', label='2019')\n",
    "    rects2 = ax.bar(ind + width/2, season_2_vals, width,\n",
    "                    color='lightgray', label='2020')\n",
    "\n",
    "    # Add some text for labels, title and custom x-axis tick labels, etc.\n",
    "    ax.set_ylabel('Salary ($)', fontsize=16)\n",
    "    ax.set_title('Team Salary by Season', fontsize=16)\n",
    "    ax.set_xticks(ind)\n",
    "    ax.set_xticklabels(list(team_df['team']), rotation=45, fontsize=14)\n",
    "    ax.legend(fontsize=14)\n",
    "    \n",
    "    plt.close()\n",
    "    return fig"
   ]
  },
  {
   "cell_type": "code",
   "execution_count": 8,
   "metadata": {},
   "outputs": [],
   "source": [
    "team_viz = compare_seasons(team_df, prior_team_df)"
   ]
  },
  {
   "cell_type": "code",
   "execution_count": 9,
   "metadata": {},
   "outputs": [
    {
     "data": {
      "image/png": "[encoded data removed]",
      "text/plain": [
       "<Figure size 1008x648 with 1 Axes>"
      ]
     },
     "execution_count": 9,
     "metadata": {},
     "output_type": "execute_result"
    }
   ],
   "source": [
    "team_viz"
   ]
  },
  {
   "cell_type": "markdown",
   "metadata": {},
   "source": [
    "Some interesting takeaways from the above figure:\n",
    "- The Wings have added a tremendous amount of salary this season through extensions and the signing of Megan Gustafson, while the Lynx have shed enough to have the lowest projected payroll to date.\n",
    "- More than half of the league is exceeding payroll from last year. With a higher salary cap, look for this to extend to even more teams.\n",
    "\n",
    "## Player Salaries (Current)"
   ]
  },
  {
   "cell_type": "code",
   "execution_count": 10,
   "metadata": {},
   "outputs": [],
   "source": [
    "team_id = '1611661322'  # Mystics\n",
    "team_player = team_salaries.team_player_salaries[team_id]"
   ]
  },
  {
   "cell_type": "code",
   "execution_count": 11,
   "metadata": {},
   "outputs": [],
   "source": [
    "team_player_salary = [team_player[x]['salary'] for x in team_player]\n",
    "salary_df = pd.DataFrame(team_player_salary)"
   ]
  },
  {
   "cell_type": "code",
   "execution_count": 12,
   "metadata": {},
   "outputs": [],
   "source": [
    "salary_df.columns = team_salaries.team_player_columns\n",
    "salary_df['id'] = [x for x in team_player]"
   ]
  },
  {
   "cell_type": "code",
   "execution_count": 13,
   "metadata": {},
   "outputs": [
    {
     "data": {
      "text/html": [
       "<div>\n",
       "<style scoped>\n",
       "    .dataframe tbody tr th:only-of-type {\n",
       "        vertical-align: middle;\n",
       "    }\n",
       "\n",
       "    .dataframe tbody tr th {\n",
       "        vertical-align: top;\n",
       "    }\n",
       "\n",
       "    .dataframe thead th {\n",
       "        text-align: right;\n",
       "    }\n",
       "</style>\n",
       "<table border=\"1\" class=\"dataframe\">\n",
       "  <thead>\n",
       "    <tr style=\"text-align: right;\">\n",
       "      <th></th>\n",
       "      <th>Player</th>\n",
       "      <th>Age</th>\n",
       "      <th>Position</th>\n",
       "      <th>YOE</th>\n",
       "      <th>Signed Using</th>\n",
       "      <th>Base Salary</th>\n",
       "      <th>Dead Cap</th>\n",
       "      <th>Cap Figure</th>\n",
       "      <th>Cap %</th>\n",
       "      <th>URL</th>\n",
       "      <th>id</th>\n",
       "    </tr>\n",
       "  </thead>\n",
       "  <tbody>\n",
       "    <tr>\n",
       "      <td>0</td>\n",
       "      <td>Delle Donne</td>\n",
       "      <td>30</td>\n",
       "      <td>F</td>\n",
       "      <td>6</td>\n",
       "      <td>Extension</td>\n",
       "      <td>$215,000</td>\n",
       "      <td>-</td>\n",
       "      <td>$215,000</td>\n",
       "      <td>17.46</td>\n",
       "      <td>https://www.spotrac.com/redirect/player/29979/</td>\n",
       "      <td>29979</td>\n",
       "    </tr>\n",
       "    <tr>\n",
       "      <td>1</td>\n",
       "      <td>Meesseman</td>\n",
       "      <td>26</td>\n",
       "      <td>F</td>\n",
       "      <td>5</td>\n",
       "      <td></td>\n",
       "      <td>$215,000</td>\n",
       "      <td>-</td>\n",
       "      <td>$215,000</td>\n",
       "      <td>17.46</td>\n",
       "      <td>https://www.spotrac.com/redirect/player/29984/</td>\n",
       "      <td>29984</td>\n",
       "    </tr>\n",
       "    <tr>\n",
       "      <td>2</td>\n",
       "      <td>Mitchell</td>\n",
       "      <td>34</td>\n",
       "      <td>G</td>\n",
       "      <td>10</td>\n",
       "      <td></td>\n",
       "      <td>$127,000</td>\n",
       "      <td>-</td>\n",
       "      <td>$127,000</td>\n",
       "      <td>10.31</td>\n",
       "      <td>https://www.spotrac.com/redirect/player/29945/</td>\n",
       "      <td>29945</td>\n",
       "    </tr>\n",
       "    <tr>\n",
       "      <td>3</td>\n",
       "      <td>Cloud</td>\n",
       "      <td>27</td>\n",
       "      <td>G</td>\n",
       "      <td>4</td>\n",
       "      <td></td>\n",
       "      <td>$117,000</td>\n",
       "      <td>-</td>\n",
       "      <td>$117,000</td>\n",
       "      <td>9.50</td>\n",
       "      <td>https://www.spotrac.com/redirect/player/29976/</td>\n",
       "      <td>29976</td>\n",
       "    </tr>\n",
       "    <tr>\n",
       "      <td>4</td>\n",
       "      <td>Sanders</td>\n",
       "      <td>33</td>\n",
       "      <td>F</td>\n",
       "      <td>6</td>\n",
       "      <td>Extension</td>\n",
       "      <td>$117,000</td>\n",
       "      <td>-</td>\n",
       "      <td>$117,000</td>\n",
       "      <td>9.50</td>\n",
       "      <td>https://www.spotrac.com/redirect/player/29989/</td>\n",
       "      <td>29989</td>\n",
       "    </tr>\n",
       "  </tbody>\n",
       "</table>\n",
       "</div>"
      ],
      "text/plain": [
       "        Player Age Position YOE Signed Using Base Salary Dead Cap Cap Figure  \\\n",
       "0  Delle Donne  30        F   6    Extension    $215,000        -   $215,000   \n",
       "1    Meesseman  26        F   5                 $215,000        -   $215,000   \n",
       "2     Mitchell  34        G  10                 $127,000        -   $127,000   \n",
       "3        Cloud  27        G   4                 $117,000        -   $117,000   \n",
       "4      Sanders  33        F   6    Extension    $117,000        -   $117,000   \n",
       "\n",
       "   Cap %                                             URL     id  \n",
       "0  17.46  https://www.spotrac.com/redirect/player/29979/  29979  \n",
       "1  17.46  https://www.spotrac.com/redirect/player/29984/  29984  \n",
       "2  10.31  https://www.spotrac.com/redirect/player/29945/  29945  \n",
       "3   9.50  https://www.spotrac.com/redirect/player/29976/  29976  \n",
       "4   9.50  https://www.spotrac.com/redirect/player/29989/  29989  "
      ]
     },
     "execution_count": 13,
     "metadata": {},
     "output_type": "execute_result"
    }
   ],
   "source": [
    "salary_df.head()"
   ]
  },
  {
   "cell_type": "markdown",
   "metadata": {},
   "source": [
    "With this information, let's create an analogous figure for player salaries."
   ]
  },
  {
   "cell_type": "code",
   "execution_count": 14,
   "metadata": {},
   "outputs": [],
   "source": [
    "def compare_player_salary(player_df, team_id):\n",
    "    \"\"\" compare_player_salary plots\n",
    "    the player salaries from a given team\n",
    "    \"\"\"\n",
    "\n",
    "    player_df['Base Salary'] = [int(x.replace('$', '').replace(',', '')) for x in player_df['Base Salary']]\n",
    "    player_df = player_df.sort_values('Base Salary', ascending=True)\n",
    "    season_1_vals = [x for x in player_df['Base Salary']]\n",
    "\n",
    "\n",
    "    ind = np.arange(len(player_df))  # the x locations for the groups\n",
    "    width = 0.35  # the width of the bars\n",
    "\n",
    "    fig, ax = plt.subplots(figsize=(14, 9))\n",
    "    rects1 = ax.barh(ind, season_1_vals, width,\n",
    "                    color='gray', label='2020')\n",
    "\n",
    "    # Add some text for labels, title and custom x-axis tick labels, etc.\n",
    "    ax.set_xlabel('Player Salary ($)', fontsize=16)\n",
    "    ax.set_title(ID_TO_TEAM_WNBA[team_id] + ' Player Salaries', fontsize=16)\n",
    "    ax.set_yticks(ind)\n",
    "\n",
    "    player_name = [x for x in player_df['Player']]\n",
    "    ax.set_yticklabels(player_name, fontsize=14)\n",
    "    ax.legend(fontsize=14, loc='lower right')\n",
    "    \n",
    "    plt.close()\n",
    "    return fig"
   ]
  },
  {
   "cell_type": "code",
   "execution_count": 15,
   "metadata": {},
   "outputs": [],
   "source": [
    "player_viz = compare_player_salary(salary_df, team_id)"
   ]
  },
  {
   "cell_type": "code",
   "execution_count": 16,
   "metadata": {},
   "outputs": [
    {
     "data": {
      "image/png": "[encoded data removed]",
      "text/plain": [
       "<Figure size 1008x648 with 1 Axes>"
      ]
     },
     "execution_count": 16,
     "metadata": {},
     "output_type": "execute_result"
    }
   ],
   "source": [
    "player_viz"
   ]
  },
  {
   "cell_type": "markdown",
   "metadata": {},
   "source": [
    "- Elena Delle Donne and Emma Meesseman are both leading the team in salary, making \\$215,000 next season\n",
    "- The Mystics have four players on their rookie contracts, each making \\$57,000 in 2020.\n",
    "\n",
    "## Exploration\n",
    "\n",
    "- Find salary cap information and effectively communicate that in these or other visualizations\n",
    "- See how adding (or subtracting) a player from a roster would effect a team's salary for the 2020 season."
   ]
  },
  {
   "cell_type": "code",
   "execution_count": null,
   "metadata": {},
   "outputs": [],
   "source": []
  }
 ],
 "metadata": {
  "kernelspec": {
   "display_name": "Python 3",
   "language": "python",
   "name": "python3"
  },
  "language_info": {
   "codemirror_mode": {
    "name": "ipython",
    "version": 3
   },
   "file_extension": ".py",
   "mimetype": "text/x-python",
   "name": "python",
   "nbconvert_exporter": "python",
   "pygments_lexer": "ipython3",
   "version": "3.7.4"
  }
 },
 "nbformat": 4,
 "nbformat_minor": 2
}
